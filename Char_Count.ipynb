{
 "cells": [
  {
   "cell_type": "code",
   "execution_count": 10,
   "metadata": {},
   "outputs": [
    {
     "name": "stdout",
     "output_type": "stream",
     "text": [
      "'a':'3'\n",
      "'b':'2'\n",
      "'c':'1'\n",
      "'d':'1'\n",
      "'e':'2'\n",
      "'f':'1'\n"
     ]
    }
   ],
   "source": [
    "def count_char_freq(char_array):\n",
    "    '''\n",
    "    This function count the number of character in the character array\n",
    "\n",
    "    input: The array of char\n",
    "    output: the list of the char and its occurances\n",
    "    '''\n",
    "    freq_dict={}\n",
    "\n",
    "    for char in char_array:\n",
    "        if char in freq_dict:\n",
    "            freq_dict[char]+=1\n",
    "        else:\n",
    "            freq_dict[char]=1\n",
    "\n",
    "    for char, freq in freq_dict.items():\n",
    "        print (f\"'{char}':'{freq}'\")\n",
    "            \n",
    "\n",
    "# Example\n",
    "charArray = ['a', 'b', 'a', 'c', 'b', 'a', 'd', 'e', 'f', 'e']\n",
    "count_char_freq(charArray)\n"
   ]
  }
 ],
 "metadata": {
  "kernelspec": {
   "display_name": "Python 3",
   "language": "python",
   "name": "python3"
  },
  "language_info": {
   "codemirror_mode": {
    "name": "ipython",
    "version": 3
   },
   "file_extension": ".py",
   "mimetype": "text/x-python",
   "name": "python",
   "nbconvert_exporter": "python",
   "pygments_lexer": "ipython3",
   "version": "3.12.4"
  }
 },
 "nbformat": 4,
 "nbformat_minor": 2
}
